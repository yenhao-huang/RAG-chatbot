{
 "cells": [
  {
   "cell_type": "code",
   "execution_count": 1,
   "id": "73abaf68",
   "metadata": {},
   "outputs": [],
   "source": [
    "import pandas as pd\n",
    "import os\n",
    "import sys\n",
    "import seaborn as sns\n",
    "import re\n",
    "import json\n",
    "from collections import Counter, defaultdict\n",
    "import matplotlib.pyplot as plt"
   ]
  },
  {
   "cell_type": "code",
   "execution_count": 3,
   "id": "4925413f",
   "metadata": {},
   "outputs": [],
   "source": [
    "in_dir_all = [\n",
    "    \"../../data/docs/military/\",\n",
    "    \"../../data/docs/user_exp/\",\n",
    "]\n",
    "\n",
    "data_all: list[dict] = []\n",
    "for in_dir in in_dir_all:\n",
    "    for file in os.listdir(in_dir):\n",
    "        p = os.path.join(in_dir, file)\n",
    "        with open(p, \"r\") as f:\n",
    "            data = json.load(f)\n",
    "            data_all.append(data[0])"
   ]
  },
  {
   "cell_type": "markdown",
   "id": "22df54f3",
   "metadata": {},
   "source": [
    "### 長度分析"
   ]
  },
  {
   "cell_type": "code",
   "execution_count": 8,
   "id": "4b88727e",
   "metadata": {},
   "outputs": [
    {
     "name": "stdout",
     "output_type": "stream",
     "text": [
      "length of each doc: 138\n",
      "length of each doc: 467\n",
      "length of each doc: 420\n",
      "length of each doc: 1658\n",
      "length of each doc: 518\n",
      "length of each doc: 197\n",
      "length of each doc: 242\n",
      "length of each doc: 190\n",
      "length of each doc: 284\n",
      "length of each doc: 1957\n",
      "length of each doc: 6236\n",
      "length of each doc: 1656\n",
      "length of each doc: 5026\n",
      "length of each doc: 2400\n",
      "length of each doc: 10184\n",
      "length of each doc: 5001\n",
      "length of each doc: 3212\n",
      "length of each doc: 3265\n",
      "length of each doc: 849\n",
      "length of each doc: 6177\n",
      "length of each doc: 3663\n"
     ]
    }
   ],
   "source": [
    "for data in data_all:\n",
    "    print(f\"length of each doc: {len(data[\"content\"])}\")"
   ]
  },
  {
   "cell_type": "code",
   "execution_count": 15,
   "id": "eeb84aa8",
   "metadata": {},
   "outputs": [
    {
     "name": "stdout",
     "output_type": "stream",
     "text": [
      "(21, 21)\n",
      "(17, 21)\n",
      "(14, 21)\n",
      "(12, 21)\n",
      "(5, 21)\n"
     ]
    }
   ],
   "source": [
    "\n",
    "def get_split_ratio(chunking_size):\n",
    "    count = 0\n",
    "    for data in data_all:\n",
    "        if len(data[\"content\"]) > chunking_size:\n",
    "            count += 1\n",
    "    return (count, len(data_all))\n",
    "\n",
    "chunking_size_all = [128, 256, 512, 1024, 4096]\n",
    "for chunking_size in chunking_size_all:\n",
    "    print(get_split_ratio(chunking_size))"
   ]
  },
  {
   "cell_type": "code",
   "execution_count": null,
   "id": "15e7cb19",
   "metadata": {},
   "outputs": [],
   "source": []
  }
 ],
 "metadata": {
  "kernelspec": {
   "display_name": "rag-llm",
   "language": "python",
   "name": "python3"
  },
  "language_info": {
   "codemirror_mode": {
    "name": "ipython",
    "version": 3
   },
   "file_extension": ".py",
   "mimetype": "text/x-python",
   "name": "python",
   "nbconvert_exporter": "python",
   "pygments_lexer": "ipython3",
   "version": "3.12.11"
  }
 },
 "nbformat": 4,
 "nbformat_minor": 5
}
